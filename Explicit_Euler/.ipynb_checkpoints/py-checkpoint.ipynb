{
 "cells": [
  {
   "cell_type": "code",
   "execution_count": 1,
   "metadata": {},
   "outputs": [],
   "source": [
    "import csv\n",
    "\n",
    "with open('implicitEuq2_0_1.txt') as inf:\n",
    "    x1 = []\n",
    "    y1 = []\n",
    "    for line in csv.reader(inf):\n",
    "        tx, ty = line\n",
    "        x1.append(float(tx))\n",
    "        y1.append(float(ty))\n",
    "with open('implicitEuq2_0_6.txt') as inf:\n",
    "    x2 = []\n",
    "    y2 = []\n",
    "    for line in csv.reader(inf):\n",
    "        tx, ty = line\n",
    "        x2.append(float(tx))\n",
    "        y2.append(float(ty))\n",
    "with open('implicitEuq2_2_1.txt') as inf:\n",
    "    x3 = []\n",
    "    y3 = []\n",
    "    for line in csv.reader(inf):\n",
    "        tx, ty = line\n",
    "        x3.append(float(tx))\n",
    "        y3.append(float(ty))\n",
    "\n"
   ]
  },
  {
   "cell_type": "code",
   "execution_count": 2,
   "metadata": {},
   "outputs": [
    {
     "ename": "NameError",
     "evalue": "name 't' is not defined",
     "output_type": "error",
     "traceback": [
      "\u001b[0;31m---------------------------------------------------------------------------\u001b[0m",
      "\u001b[0;31mNameError\u001b[0m                                 Traceback (most recent call last)",
      "\u001b[0;32m<ipython-input-2-e6bb7696a0ed>\u001b[0m in \u001b[0;36m<module>\u001b[0;34m\u001b[0m\n\u001b[1;32m     12\u001b[0m \u001b[0;31m# Create the vectors X and Y\u001b[0m\u001b[0;34m\u001b[0m\u001b[0;34m\u001b[0m\u001b[0;34m\u001b[0m\u001b[0m\n\u001b[1;32m     13\u001b[0m \u001b[0mtx\u001b[0m \u001b[0;34m=\u001b[0m \u001b[0mnp\u001b[0m\u001b[0;34m.\u001b[0m\u001b[0marange\u001b[0m\u001b[0;34m(\u001b[0m\u001b[0;36m0\u001b[0m\u001b[0;34m,\u001b[0m \u001b[0;36m10\u001b[0m\u001b[0;34m,\u001b[0m \u001b[0;36m0.2\u001b[0m\u001b[0;34m)\u001b[0m\u001b[0;34m\u001b[0m\u001b[0;34m\u001b[0m\u001b[0m\n\u001b[0;32m---> 14\u001b[0;31m \u001b[0mty\u001b[0m \u001b[0;34m=\u001b[0m \u001b[0;36m1\u001b[0m\u001b[0;34m/\u001b[0m\u001b[0;34m(\u001b[0m\u001b[0;34m(\u001b[0m\u001b[0mt\u001b[0m\u001b[0;34m**\u001b[0m\u001b[0;36m2\u001b[0m\u001b[0;34m)\u001b[0m\u001b[0;34m+\u001b[0m\u001b[0;36m1\u001b[0m\u001b[0;34m)\u001b[0m\u001b[0;34m\u001b[0m\u001b[0;34m\u001b[0m\u001b[0m\n\u001b[0m\u001b[1;32m     15\u001b[0m \u001b[0;34m\u001b[0m\u001b[0m\n\u001b[1;32m     16\u001b[0m \u001b[0mplt\u001b[0m\u001b[0;34m.\u001b[0m\u001b[0mxlabel\u001b[0m\u001b[0;34m(\u001b[0m\u001b[0;34m't'\u001b[0m\u001b[0;34m,\u001b[0m \u001b[0mfontsize\u001b[0m\u001b[0;34m=\u001b[0m\u001b[0;36m18\u001b[0m\u001b[0;34m)\u001b[0m\u001b[0;34m\u001b[0m\u001b[0;34m\u001b[0m\u001b[0m\n",
      "\u001b[0;31mNameError\u001b[0m: name 't' is not defined"
     ]
    }
   ],
   "source": [
    "import matplotlib.pyplot as plt\n",
    "import numpy as np\n",
    "import matplotlib.pylab as pylab\n",
    "params = {'legend.fontsize': 'x-large',\n",
    "          'figure.figsize': (7,5),\n",
    "         'axes.labelsize': 'x-large',\n",
    "         'axes.titlesize':'x-large',\n",
    "         'xtick.labelsize':'x-large',\n",
    "         'ytick.labelsize':'x-large'}\n",
    "pylab.rcParams.update(params)\n",
    "\n",
    "# Create the vectors X and Y\n",
    "tx = np.arange(0, 10, 0.2)\n",
    "ty = 1/((tx**2)+1)\n",
    "\n",
    "plt.xlabel('t', fontsize=18)\n",
    "plt.ylabel('Φ', fontsize=16)\n",
    "\n",
    "# Create the plot\n",
    "plt.plot(tx,ty,'-', label='Exact')\n",
    "plt.plot(x1,y1,'^', label='dt=0.1')\n",
    "plt.plot(x2,y2,'*', label='dt=0.6')\n",
    "plt.plot(x3,y3,'o', label='dt=2.1')\n",
    "#x1 = np.arange(0 ,1 ,0.1)\n",
    "#y1 = 1+3*x\n",
    "\n",
    "#lt.plot(x1,y1,'^', label='n=1')\n",
    "# Show the plot\n",
    "#plt.legend()\n",
    "plt.title('Implicit_Euler_2')\n",
    "plt.gca().legend(('Exact','dt=0.1','dt=0.6','dt=2.1'))\n",
    "plt.savefig('Implicit_Euler_2.png')\n",
    "plt.show()"
   ]
  },
  {
   "cell_type": "code",
   "execution_count": 60,
   "metadata": {},
   "outputs": [
    {
     "ename": "NameError",
     "evalue": "name '__file__' is not defined",
     "output_type": "error",
     "traceback": [
      "\u001b[0;31m---------------------------------------------------------------------------\u001b[0m",
      "\u001b[0;31mNameError\u001b[0m                                 Traceback (most recent call last)",
      "\u001b[0;32m<ipython-input-60-0ec23e19cd17>\u001b[0m in \u001b[0;36m<module>\u001b[0;34m\u001b[0m\n\u001b[1;32m      1\u001b[0m \u001b[0;32mimport\u001b[0m \u001b[0mcsv\u001b[0m\u001b[0;34m\u001b[0m\u001b[0;34m\u001b[0m\u001b[0m\n\u001b[1;32m      2\u001b[0m \u001b[0;32mimport\u001b[0m \u001b[0mos\u001b[0m\u001b[0;34m\u001b[0m\u001b[0;34m\u001b[0m\u001b[0m\n\u001b[0;32m----> 3\u001b[0;31m \u001b[0mscript_path\u001b[0m \u001b[0;34m=\u001b[0m \u001b[0mos\u001b[0m\u001b[0;34m.\u001b[0m\u001b[0mpath\u001b[0m\u001b[0;34m.\u001b[0m\u001b[0mabspath\u001b[0m\u001b[0;34m(\u001b[0m\u001b[0m__file__\u001b[0m\u001b[0;34m)\u001b[0m \u001b[0;31m# i.e. /path/to/dir/foobar.py\u001b[0m\u001b[0;34m\u001b[0m\u001b[0;34m\u001b[0m\u001b[0m\n\u001b[0m\u001b[1;32m      4\u001b[0m \u001b[0mscript_dir\u001b[0m \u001b[0;34m=\u001b[0m \u001b[0mos\u001b[0m\u001b[0;34m.\u001b[0m\u001b[0mpath\u001b[0m\u001b[0;34m.\u001b[0m\u001b[0msplit\u001b[0m\u001b[0;34m(\u001b[0m\u001b[0mscript_path\u001b[0m\u001b[0;34m)\u001b[0m\u001b[0;34m[\u001b[0m\u001b[0;36m0\u001b[0m\u001b[0;34m]\u001b[0m \u001b[0;31m#i.e. /path/to/dir/\u001b[0m\u001b[0;34m\u001b[0m\u001b[0;34m\u001b[0m\u001b[0m\n\u001b[1;32m      5\u001b[0m \u001b[0mrel_path\u001b[0m \u001b[0;34m=\u001b[0m \u001b[0;34m\"/Explicit_E/explicitEuq1_0_1.txt\"\u001b[0m\u001b[0;34m\u001b[0m\u001b[0;34m\u001b[0m\u001b[0m\n",
      "\u001b[0;31mNameError\u001b[0m: name '__file__' is not defined"
     ]
    }
   ],
   "source": [
    "import csv\n",
    "import os\n",
    "script_path = os.path.abspath(__file__) # i.e. /path/to/dir/foobar.py\n",
    "script_dir = os.path.split(script_path)[0] #i.e. /path/to/dir/\n",
    "rel_path = \"/Explicit_E/explicitEuq1_0_1.txt\"\n",
    "abs_file_path = os.path.join(script_dir, rel_path)\n",
    "\n",
    "with open(abs_file_path) as inf:\n",
    "    x1 = []\n",
    "    y1 = []\n",
    "    for line in csv.reader(inf):\n",
    "        tx, ty = line\n",
    "        x1.append(float(tx))\n",
    "        y1.append(float(ty))\n",
    "with open(file_path2) as inf:\n",
    "    x2 = []\n",
    "    y2 = []\n",
    "    for line in csv.reader(inf):\n",
    "        tx, ty = line\n",
    "        x2.append(float(tx))\n",
    "        y2.append(float(ty))\n",
    "with open(file_path3) as inf:\n",
    "    x3 = []\n",
    "    y3 = []\n",
    "    for line in csv.reader(inf):\n",
    "        tx, ty = line\n",
    "        x3.append(float(tx))\n",
    "        y3.append(float(ty))\n"
   ]
  }
 ],
 "metadata": {
  "kernelspec": {
   "display_name": "Python 3",
   "language": "python",
   "name": "python3"
  },
  "language_info": {
   "codemirror_mode": {
    "name": "ipython",
    "version": 3
   },
   "file_extension": ".py",
   "mimetype": "text/x-python",
   "name": "python",
   "nbconvert_exporter": "python",
   "pygments_lexer": "ipython3",
   "version": "3.7.3"
  }
 },
 "nbformat": 4,
 "nbformat_minor": 2
}
